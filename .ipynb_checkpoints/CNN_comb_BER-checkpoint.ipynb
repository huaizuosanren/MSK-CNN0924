{
 "cells": [
  {
   "cell_type": "markdown",
   "metadata": {},
   "source": [
    "#  ----------0712: I think there are something wrong with the comb noise or whatever."
   ]
  },
  {
   "cell_type": "code",
   "execution_count": 43,
   "metadata": {},
   "outputs": [
    {
     "data": {
      "image/png": "[encoded data removed]",
      "text/plain": [
       "<matplotlib.figure.Figure at 0x24e5ef75748>"
      ]
     },
     "metadata": {},
     "output_type": "display_data"
    },
    {
     "name": "stderr",
     "output_type": "stream",
     "text": [
      "E:\\Anaconda3\\lib\\site-packages\\ipykernel_launcher.py:106: DeprecationWarning: object of type <class 'float'> cannot be safely interpreted as an integer.\n",
      "E:\\Anaconda3\\lib\\site-packages\\ipykernel_launcher.py:110: DeprecationWarning: object of type <class 'float'> cannot be safely interpreted as an integer.\n"
     ]
    }
   ],
   "source": [
    "# coding: utf-8\n",
    "\n",
    "# In[62]:\n",
    "\n",
    "\n",
    "'''\n",
    "this version use an easy CNN to demodulate MSK.\n",
    "https://www.codercto.com/a/38746.html\n",
    "the structure of CNN is:\n",
    "reshape--conv--conv--maxpool--conv--conv--maxpool--GlobalAveragePooling--dropout--dense--\n",
    "-----------Tan --------------------2019.03.09--------------------\n",
    "-----------this version successed on 2019-3-13----------------\n",
    "------with 8dB BER=0.01----------------------\n",
    "-----modified on 2019.03.14------add different snr to see the BER curve---------haven't test----------\n",
    "------2019.03.15 test this model, it is trained succesfully, but may be the test change the parameters of the \n",
    "model, but I don't know which sentence changed. or the 'add noise' sentence have some bugs------\n",
    "------------------20190330------------------\n",
    "------add carrier ----------------------------\n",
    "--------20190513-----------------------\n",
    "------change the structure of CNN------------------\n",
    "'''\n",
    "import matplotlib.pyplot as plt\n",
    "import numpy as np \n",
    "from math import pi\n",
    "from scipy import interpolate \n",
    "import matplotlib.pyplot as plt\n",
    "import matplotlib\n",
    "import scipy.signal as signal\n",
    "import math\n",
    "from scipy.stats import levy_stable\n",
    "import CommFunc as CF\n",
    "from keras.utils import np_utils\n",
    "\n",
    "#----------import my function-----------\n",
    "import noise\n",
    "import comb_noise as cmbn\n",
    "\n",
    "# get the train and test data\n",
    "# generate symbol\n",
    "\n",
    "data_len=1000\n",
    "sample_num=8\n",
    "Rb=100\n",
    "fc=20000\n",
    "sampling_t=0.01\n",
    "t=np.arange(0,data_len,sampling_t)\n",
    "multi=int(fc/Rb)\n",
    "def symbol_out(data_len):\n",
    "  a = np.random.randint(0, 2, data_len)\n",
    "  m = np.zeros(len(t), dtype=np.float32)\n",
    "  for i in range(len(t)):\n",
    "    m[i] = a[math.floor(t[i])]\n",
    "  for i in range(len(a)):\n",
    "    if a[i]>0:\n",
    "      a[i]=a[i]\n",
    "    else:\n",
    "      a[i]=-1\n",
    "  return a,m\n",
    "data,data_p=symbol_out(data_len)\n",
    "# 解决set_title中文乱码\n",
    " \n",
    "zhfont1 = matplotlib.font_manager.FontProperties(fname = 'C:\\Windows\\Fonts\\simsun.ttc')\n",
    "#------plot figure----------\n",
    "fig = plt.figure() \n",
    "ax1 = fig.add_subplot(3, 1, 1)\n",
    "ax1.set_title('generate binary symbol', fontproperties = zhfont1, fontsize = 20)\n",
    " \n",
    "plt.axis([0, 10, -0.5, 1.5])\n",
    " \n",
    "plt.plot(t, data_p, 'b')\n",
    "\n",
    "#---------- I and Q---------\n",
    "def IQ_msk(data,data_len,sample_num,Rb):\n",
    "    Tb=1/Rb\n",
    "    #fs=Rb*sample_num\n",
    "    # sampling\n",
    "    data_sample=np.zeros(data_len*sample_num)\n",
    "    count=0\n",
    "    for i in range(data_len):\n",
    "      data_sample[count:(i+1)*sample_num+1]=data[i]\n",
    "      count=(i+1)*sample_num+1\n",
    "    # phase\n",
    "    phase=np.zeros(data_len*sample_num)\n",
    "    phase[0]=data_sample[0]*pi/2/sample_num\n",
    "    for i in range(1,data_len*sample_num):\n",
    "      phase[i]=phase[i-1]+data_sample[i-1]*pi/2/sample_num\n",
    "    I_out=np.cos(phase)\n",
    "    Q_out=np.sin(phase)\n",
    "    return I_out,Q_out\n",
    "I_out,Q_out=IQ_msk(data,data_len,sample_num,Rb)\n",
    "#-------plot figure--------------\n",
    "ax2=fig.add_subplot(3,1,2)\n",
    "ax2.set_title('I out', fontproperties = zhfont1, fontsize = 20)\n",
    "plt.axis([0, 100, -1.5, 1.5])\n",
    "plt.plot(I_out, 'b')\n",
    "ax3=fig.add_subplot(3,1,3)\n",
    "ax2.set_title('Q out', fontproperties = zhfont1, fontsize = 20)\n",
    "plt.axis([0, 100, -1.5, 1.5])\n",
    "plt.plot(Q_out, 'b')\n",
    "plt.show()\n",
    "#---modulate to defined frequency-----\n",
    "def carriermod(fc,Rb,I_out,Q_out):\n",
    "    pass\n",
    "    multi = fc/Rb\n",
    "    x_I=np.linspace(0,len(I_out)-1,len(I_out))\n",
    "    x_Itemp=np.linspace(0,len(I_out)-1,(len(I_out)*multi))\n",
    "    f_I = interpolate.interp1d(x_I,I_out,kind=\"slinear\")\n",
    "    I_temp=f_I(x_Itemp)\n",
    "    x_Q=np.linspace(0,len(Q_out)-1,len(Q_out))\n",
    "    x_Qtemp=np.linspace(0,len(Q_out)-1,(len(Q_out)*multi))\n",
    "    f_Q = interpolate.interp1d(x_Q,Q_out,kind=\"slinear\")\n",
    "    Q_temp=f_Q(x_Qtemp)\n",
    "\n",
    "\n",
    "    fs=fc*sample_num\n",
    "    ts = np.arange(0, (len(I_temp)* 1) / fs, 1 / fs)\n",
    "    signal_I=I_temp*np.cos(np.dot(2*pi*fc,ts))\n",
    "    signal_Q=Q_temp*np.sin(np.dot(2*pi*fc,ts))\n",
    "\n",
    "    signal_mod=signal_I-signal_Q\n",
    "    return signal_mod\n",
    "signal_mod=carriermod(fc,Rb,I_out,Q_out)"
   ]
  },
  {
   "cell_type": "markdown",
   "metadata": {},
   "source": [
    "# input shape 16*100"
   ]
  },
  {
   "cell_type": "code",
   "execution_count": 44,
   "metadata": {},
   "outputs": [
    {
     "name": "stdout",
     "output_type": "stream",
     "text": [
      "the library of the network has been prepared\n"
     ]
    }
   ],
   "source": [
    "#--------------prepare the convolutional neural network-------------\n",
    "from sklearn import metrics\n",
    "from sklearn.metrics import classification_report\n",
    "from sklearn import preprocessing\n",
    "\n",
    "import keras\n",
    "from keras.models import Sequential\n",
    "from keras.layers import Dense, Dropout, Flatten, Reshape, GlobalAveragePooling1D\n",
    "from keras.layers import Conv2D, MaxPooling2D, Conv1D, MaxPooling1D\n",
    "from keras.utils import np_utils\n",
    "print ('the library of the network has been prepared')\n",
    "\n"
   ]
  },
  {
   "cell_type": "code",
   "execution_count": 99,
   "metadata": {},
   "outputs": [
    {
     "name": "stdout",
     "output_type": "stream",
     "text": [
      "_________________________________________________________________\n",
      "Layer (type)                 Output Shape              Param #   \n",
      "=================================================================\n",
      "reshape_3 (Reshape)          (None, 16, 100)           0         \n",
      "_________________________________________________________________\n",
      "conv1d_7 (Conv1D)            (None, 12, 200)           100200    \n",
      "_________________________________________________________________\n",
      "max_pooling1d_4 (MaxPooling1 (None, 6, 200)            0         \n",
      "_________________________________________________________________\n",
      "conv1d_8 (Conv1D)            (None, 2, 160)            160160    \n",
      "_________________________________________________________________\n",
      "global_average_pooling1d_4 ( (None, 160)               0         \n",
      "_________________________________________________________________\n",
      "dropout_4 (Dropout)          (None, 160)               0         \n",
      "_________________________________________________________________\n",
      "dense_4 (Dense)              (None, 2)                 322       \n",
      "=================================================================\n",
      "Total params: 260,682\n",
      "Trainable params: 260,682\n",
      "Non-trainable params: 0\n",
      "_________________________________________________________________\n",
      "None\n",
      "the model has been compiled\n"
     ]
    }
   ],
   "source": [
    "#-------------define the number of classes of the signal (means 0/1 )--------\n",
    "num_classes = 2\n",
    "#-----------construct the 1D CNN-----------------------\n",
    "# 1D CNN neural network\n",
    "#input_shape = (sample_num*2,2)\n",
    "model_m = Sequential()\n",
    "#model_m.add(Reshape((sample_num, 2), input_shape=(input_shape)))\n",
    "model_m.add(Reshape((sample_num*2, 100), input_shape=(1600,)))\n",
    "model_m.add(Conv1D(200, 5, activation='relu', input_shape=(sample_num*2,100)))\n",
    "#model_m.add(Conv1D(200, 4, activation='relu'))\n",
    "model_m.add(MaxPooling1D(2))\n",
    "model_m.add(Conv1D(160, 5, activation='relu'))\n",
    "#model_m.add(Conv1D(160, 4, activation='relu'))\n",
    "model_m.add(GlobalAveragePooling1D())\n",
    "model_m.add(Dropout(0.5))\n",
    "model_m.add(Dense(num_classes, activation='softmax'))\n",
    "print(model_m.summary())\n",
    "\n",
    "\n",
    "# In[66]:\n",
    "\n",
    "\n",
    "#------------compile the CNN--------------\n",
    "model_m.compile(loss='categorical_crossentropy',\n",
    "                optimizer='adam', metrics=['accuracy'])\n",
    "print('the model has been compiled')"
   ]
  },
  {
   "cell_type": "code",
   "execution_count": 112,
   "metadata": {},
   "outputs": [
    {
     "name": "stdout",
     "output_type": "stream",
     "text": [
      "[ 9.97703264e-01 -1.17121356e+00  6.16574002e-17 ... -9.21792102e-01\n",
      "  1.60674773e-10 -1.69427818e-01]\n",
      "[-0.  0.  0. ... -0. -0.  0.]\n",
      "the noise has been prepared\n",
      "the shape of comb noise (1600000,)\n",
      "y_train [[0. 1.]\n",
      " [1. 0.]\n",
      " [0. 1.]\n",
      " ...\n",
      " [1. 0.]\n",
      " [0. 1.]\n",
      " [0. 1.]]\n",
      "signals has been prepared\n",
      "shape of X_train (1000, 1600) shape of y_train (1000, 2)\n"
     ]
    }
   ],
   "source": [
    "#------------prepare combine noise-------------------\n",
    "yita = 0  #yita = imnoise/combine noise\n",
    "EbN0 = -6 # -6 #-4 #0 #6   #15\n",
    "fs = fc*sample_num\n",
    "cmb_noise = cmbn.combnoise(EbN0,yita,len(signal_mod),fc,fs)\n",
    "print(cmb_noise)\n",
    "im_noise=cmbn.imnoise(EbN0,yita,signal_mod.shape,alpha=1.2)  #alpha=1.2\n",
    "print(im_noise)\n",
    "signal_mod0 = signal_mod+cmb_noise+im_noise\n",
    "#X_train = signal_mod0.reshape(data_len,sample_num,200)\n",
    "print('the noise has been prepared')\n",
    "print('the shape of comb noise',cmb_noise.shape)\n",
    "#------prpare the data-+---------------\n",
    "X_train=np.zeros((data_len,1600))\n",
    "X_test=np.zeros((data_len,1600))\n",
    "X_train = signal_mod0.reshape(data_len,1600) \n",
    "\n",
    "data_0=(data+1)/2\n",
    "\n",
    "#X_train_pre=signal_mod\n",
    "y_train = np_utils.to_categorical(data_0, num_classes=2)\n",
    "print('y_train',y_train)\n",
    "#print('data_0',data_0)\n",
    "y_test=y_train\n",
    "#X_train = X_train_pre.reshape(data_len,sample_num*multi)\n",
    "X_test=X_train\n",
    "\n",
    "\n",
    "print ('signals has been prepared')\n",
    "print('shape of X_train',X_train.shape,'shape of y_train',y_train.shape)\n"
   ]
  },
  {
   "cell_type": "code",
   "execution_count": 110,
   "metadata": {},
   "outputs": [
    {
     "data": {
      "image/png": "[encoded data removed]",
      "text/plain": [
       "<matplotlib.figure.Figure at 0x24e037e0470>"
      ]
     },
     "metadata": {},
     "output_type": "display_data"
    }
   ],
   "source": [
    "plt.figure\n",
    "plt.plot(signal_mod,'b-')\n",
    "plt.show()\n"
   ]
  },
  {
   "cell_type": "code",
   "execution_count": 113,
   "metadata": {},
   "outputs": [
    {
     "data": {
      "image/png": "[encoded data removed]",
      "text/plain": [
       "<matplotlib.figure.Figure at 0x24e01cc1828>"
      ]
     },
     "metadata": {},
     "output_type": "display_data"
    }
   ],
   "source": [
    "plt.figure\n",
    "plt.plot(signal_mod0,'r-')\n",
    "plt.show()"
   ]
  },
  {
   "cell_type": "code",
   "execution_count": 114,
   "metadata": {},
   "outputs": [
    {
     "name": "stdout",
     "output_type": "stream",
     "text": [
      "Train on 800 samples, validate on 200 samples\n",
      "Epoch 1/50\n",
      "800/800 [==============================] - 0s 108us/step - loss: 0.0039 - acc: 1.0000 - val_loss: 2.5703e-04 - val_acc: 1.0000\n",
      "Epoch 2/50\n",
      "800/800 [==============================] - 0s 101us/step - loss: 0.0056 - acc: 0.9988 - val_loss: 2.2002e-04 - val_acc: 1.0000\n",
      "Epoch 3/50\n",
      "800/800 [==============================] - 0s 108us/step - loss: 0.0020 - acc: 1.0000 - val_loss: 1.8137e-04 - val_acc: 1.0000\n",
      "Epoch 4/50\n",
      "800/800 [==============================] - 0s 101us/step - loss: 0.0024 - acc: 1.0000 - val_loss: 1.3140e-04 - val_acc: 1.0000\n",
      "Epoch 5/50\n",
      "800/800 [==============================] - 0s 105us/step - loss: 0.0043 - acc: 0.9988 - val_loss: 9.0213e-05 - val_acc: 1.0000\n",
      "Epoch 6/50\n",
      "800/800 [==============================] - 0s 101us/step - loss: 0.0023 - acc: 0.9988 - val_loss: 6.9538e-05 - val_acc: 1.0000\n",
      "Epoch 7/50\n",
      "800/800 [==============================] - 0s 102us/step - loss: 0.0018 - acc: 1.0000 - val_loss: 5.4840e-05 - val_acc: 1.0000\n",
      "Epoch 8/50\n",
      "800/800 [==============================] - 0s 101us/step - loss: 0.0016 - acc: 1.0000 - val_loss: 5.2465e-05 - val_acc: 1.0000\n",
      "Epoch 9/50\n",
      "800/800 [==============================] - 0s 102us/step - loss: 0.0014 - acc: 1.0000 - val_loss: 5.4660e-05 - val_acc: 1.0000\n",
      "Epoch 10/50\n",
      "800/800 [==============================] - 0s 98us/step - loss: 5.6745e-04 - acc: 1.0000 - val_loss: 5.8123e-05 - val_acc: 1.0000\n",
      "Epoch 11/50\n",
      "800/800 [==============================] - 0s 107us/step - loss: 7.9065e-04 - acc: 1.0000 - val_loss: 6.0229e-05 - val_acc: 1.0000\n",
      "Epoch 12/50\n",
      "800/800 [==============================] - 0s 102us/step - loss: 0.0011 - acc: 1.0000 - val_loss: 5.7494e-05 - val_acc: 1.0000\n",
      "Epoch 13/50\n",
      "800/800 [==============================] - 0s 108us/step - loss: 0.0012 - acc: 1.0000 - val_loss: 5.2048e-05 - val_acc: 1.0000\n",
      "Epoch 14/50\n",
      "800/800 [==============================] - 0s 107us/step - loss: 7.7438e-04 - acc: 1.0000 - val_loss: 4.4288e-05 - val_acc: 1.0000\n",
      "Epoch 15/50\n",
      "800/800 [==============================] - 0s 103us/step - loss: 0.0015 - acc: 1.0000 - val_loss: 3.8039e-05 - val_acc: 1.0000\n",
      "Epoch 16/50\n",
      "800/800 [==============================] - 0s 103us/step - loss: 0.0011 - acc: 1.0000 - val_loss: 3.2432e-05 - val_acc: 1.0000\n",
      "Epoch 17/50\n",
      "800/800 [==============================] - 0s 97us/step - loss: 0.0014 - acc: 1.0000 - val_loss: 2.8666e-05 - val_acc: 1.0000\n",
      "Epoch 18/50\n",
      "800/800 [==============================] - 0s 97us/step - loss: 5.2878e-04 - acc: 1.0000 - val_loss: 2.6305e-05 - val_acc: 1.0000\n",
      "Epoch 19/50\n",
      "800/800 [==============================] - 0s 103us/step - loss: 8.0517e-04 - acc: 1.0000 - val_loss: 2.4996e-05 - val_acc: 1.0000\n",
      "Epoch 20/50\n",
      "800/800 [==============================] - 0s 100us/step - loss: 4.5412e-04 - acc: 1.0000 - val_loss: 2.4458e-05 - val_acc: 1.0000\n",
      "Epoch 21/50\n",
      "800/800 [==============================] - 0s 101us/step - loss: 4.1941e-04 - acc: 1.0000 - val_loss: 2.4212e-05 - val_acc: 1.0000\n",
      "Epoch 22/50\n",
      "800/800 [==============================] - 0s 99us/step - loss: 6.3213e-04 - acc: 1.0000 - val_loss: 2.3817e-05 - val_acc: 1.0000\n",
      "Epoch 23/50\n",
      "800/800 [==============================] - 0s 100us/step - loss: 8.4528e-04 - acc: 1.0000 - val_loss: 2.3101e-05 - val_acc: 1.0000\n",
      "Epoch 24/50\n",
      "800/800 [==============================] - 0s 102us/step - loss: 7.7252e-04 - acc: 1.0000 - val_loss: 2.1978e-05 - val_acc: 1.0000\n",
      "Epoch 25/50\n",
      "800/800 [==============================] - 0s 97us/step - loss: 3.4513e-04 - acc: 1.0000 - val_loss: 2.0876e-05 - val_acc: 1.0000\n",
      "Epoch 26/50\n",
      "800/800 [==============================] - 0s 105us/step - loss: 6.3572e-04 - acc: 1.0000 - val_loss: 1.9541e-05 - val_acc: 1.0000\n",
      "Epoch 27/50\n",
      "800/800 [==============================] - 0s 97us/step - loss: 7.9823e-04 - acc: 1.0000 - val_loss: 1.8469e-05 - val_acc: 1.0000\n",
      "Epoch 28/50\n",
      "800/800 [==============================] - 0s 100us/step - loss: 5.7371e-04 - acc: 1.0000 - val_loss: 1.7735e-05 - val_acc: 1.0000\n",
      "Epoch 29/50\n",
      "800/800 [==============================] - 0s 102us/step - loss: 6.1813e-04 - acc: 1.0000 - val_loss: 1.6886e-05 - val_acc: 1.0000\n",
      "Epoch 30/50\n",
      "800/800 [==============================] - 0s 100us/step - loss: 5.1571e-04 - acc: 1.0000 - val_loss: 1.5981e-05 - val_acc: 1.0000\n",
      "Epoch 31/50\n",
      "800/800 [==============================] - 0s 101us/step - loss: 7.7612e-04 - acc: 1.0000 - val_loss: 1.5314e-05 - val_acc: 1.0000\n",
      "Epoch 32/50\n",
      "800/800 [==============================] - 0s 98us/step - loss: 9.3759e-04 - acc: 1.0000 - val_loss: 1.4605e-05 - val_acc: 1.0000\n",
      "Epoch 33/50\n",
      "800/800 [==============================] - 0s 102us/step - loss: 0.0016 - acc: 1.0000 - val_loss: 1.4140e-05 - val_acc: 1.0000\n",
      "Epoch 34/50\n",
      "800/800 [==============================] - 0s 102us/step - loss: 6.7391e-04 - acc: 1.0000 - val_loss: 1.3649e-05 - val_acc: 1.0000\n",
      "Epoch 35/50\n",
      "800/800 [==============================] - 0s 98us/step - loss: 6.6435e-04 - acc: 1.0000 - val_loss: 1.3167e-05 - val_acc: 1.0000\n",
      "Epoch 36/50\n",
      "800/800 [==============================] - 0s 97us/step - loss: 0.0010 - acc: 1.0000 - val_loss: 1.2838e-05 - val_acc: 1.0000\n",
      "Epoch 37/50\n",
      "800/800 [==============================] - 0s 98us/step - loss: 6.0620e-04 - acc: 1.0000 - val_loss: 1.2513e-05 - val_acc: 1.0000\n",
      "Epoch 38/50\n",
      "800/800 [==============================] - 0s 103us/step - loss: 5.1306e-04 - acc: 1.0000 - val_loss: 1.2193e-05 - val_acc: 1.0000\n",
      "Epoch 39/50\n",
      "800/800 [==============================] - 0s 98us/step - loss: 9.3730e-04 - acc: 1.0000 - val_loss: 1.1953e-05 - val_acc: 1.0000\n",
      "Epoch 40/50\n",
      "800/800 [==============================] - 0s 101us/step - loss: 6.9698e-04 - acc: 1.0000 - val_loss: 1.1800e-05 - val_acc: 1.0000\n",
      "Epoch 41/50\n",
      "800/800 [==============================] - 0s 100us/step - loss: 4.6503e-04 - acc: 1.0000 - val_loss: 1.1725e-05 - val_acc: 1.0000\n",
      "Epoch 42/50\n",
      "800/800 [==============================] - 0s 100us/step - loss: 0.0012 - acc: 1.0000 - val_loss: 1.1214e-05 - val_acc: 1.0000\n",
      "Epoch 43/50\n",
      "800/800 [==============================] - 0s 98us/step - loss: 0.0014 - acc: 1.0000 - val_loss: 1.0382e-05 - val_acc: 1.0000\n",
      "Epoch 44/50\n",
      "800/800 [==============================] - 0s 100us/step - loss: 3.3645e-04 - acc: 1.0000 - val_loss: 9.8097e-06 - val_acc: 1.0000\n",
      "Epoch 45/50\n",
      "800/800 [==============================] - 0s 100us/step - loss: 0.0014 - acc: 1.0000 - val_loss: 9.4270e-06 - val_acc: 1.0000\n",
      "Epoch 46/50\n",
      "800/800 [==============================] - 0s 105us/step - loss: 4.9523e-04 - acc: 1.0000 - val_loss: 9.1430e-06 - val_acc: 1.0000\n",
      "Epoch 47/50\n",
      "800/800 [==============================] - 0s 104us/step - loss: 3.4946e-04 - acc: 1.0000 - val_loss: 8.9188e-06 - val_acc: 1.0000\n",
      "Epoch 48/50\n",
      "800/800 [==============================] - 0s 107us/step - loss: 6.1156e-04 - acc: 1.0000 - val_loss: 8.6613e-06 - val_acc: 1.0000\n",
      "Epoch 49/50\n",
      "800/800 [==============================] - 0s 103us/step - loss: 3.9397e-04 - acc: 1.0000 - val_loss: 8.3785e-06 - val_acc: 1.0000\n",
      "Epoch 50/50\n",
      "800/800 [==============================] - 0s 102us/step - loss: 6.4718e-04 - acc: 1.0000 - val_loss: 8.0566e-06 - val_acc: 1.0000\n",
      "\n",
      "--- Learning curve of model training ---\n",
      "\n"
     ]
    },
    {
     "data": {
      "image/png": "[encoded data removed]",
      "text/plain": [
       "<matplotlib.figure.Figure at 0x24e5eb5fcf8>"
      ]
     },
     "metadata": {},
     "output_type": "display_data"
    },
    {
     "name": "stdout",
     "output_type": "stream",
     "text": [
      "save model\n"
     ]
    }
   ],
   "source": [
    "##-----------the training parameters---------------\n",
    "# Hyper-parameters\n",
    "BATCH_SIZE = 500\n",
    "EPOCHS = 50\n",
    "#for i in range(2):\n",
    "#    X_train[0:data_len,0:sample_num,i]= X_train[0:data_len,0:sample_num,i] +im_noise[0,0:data_len,0:sample_num]\n",
    "    #X_test[0:data_len,0:sample_num,i]= X_test[0:data_len,0:sample_num,i] +im_noise[7,0:data_len,0:sample_num]\n",
    "#X_test=X_test+im_noise\n",
    "# Enable validation to use ModelCheckpoint and EarlyStopping callbacks.\n",
    "history = model_m.fit(X_train,\n",
    "                      y_train,\n",
    "                      batch_size=BATCH_SIZE,\n",
    "                      epochs=EPOCHS,\n",
    "                  #    callbacks=callbacks_list,\n",
    "                      validation_split=0.2,\n",
    "                      verbose=1)\n",
    "                     \n",
    "\n",
    "# %%\n",
    "#score = model_m.evaluate(X_test, y_test, verbose=1)\n",
    "#print(\"\\nAccuracy on test data: %0.2f\" % score[1])\n",
    "#print(\"\\nLoss on test data: %0.2f\" % score[0])\n",
    "print(\"\\n--- Learning curve of model training ---\\n\")\n",
    "# summarize history for accuracy and loss\n",
    "plt.figure(figsize=(6, 4))\n",
    "plt.plot(history.history['acc'], \"g--\", label=\"Accuracy of training data\")\n",
    "plt.plot(history.history['val_acc'], \"g\", label=\"Accuracy of validation data\")\n",
    "plt.plot(history.history['loss'], \"r--\", label=\"Loss of training data\")\n",
    "plt.plot(history.history['val_loss'], \"r\", label=\"Loss of validation data\")\n",
    "plt.title('Model Accuracy and Loss')\n",
    "plt.ylabel('Accuracy and Loss')\n",
    "plt.xlabel('Training Epoch')\n",
    "plt.ylim(0)\n",
    "plt.legend()\n",
    "plt.show()\n",
    "model_m.save('CNN_comb_tr-6dB.h5')\n",
    "print('save model')"
   ]
  },
  {
   "cell_type": "code",
   "execution_count": 115,
   "metadata": {},
   "outputs": [
    {
     "name": "stderr",
     "output_type": "stream",
     "text": [
      "E:\\Anaconda3\\lib\\site-packages\\ipykernel_launcher.py:106: DeprecationWarning: object of type <class 'float'> cannot be safely interpreted as an integer.\n",
      "E:\\Anaconda3\\lib\\site-packages\\ipykernel_launcher.py:110: DeprecationWarning: object of type <class 'float'> cannot be safely interpreted as an integer.\n"
     ]
    },
    {
     "name": "stdout",
     "output_type": "stream",
     "text": [
      "data_0 [1. 0. 1. 0. 0. 1. 1. 0. 1. 1. 1. 1. 1. 1. 0. 0. 0. 0. 1. 0. 0. 1. 1. 0.\n",
      " 0. 1. 1. 1. 0. 0. 1. 1. 1. 1. 0. 0. 0. 0. 0. 0. 1. 1. 0. 0. 1. 0. 0. 1.\n",
      " 1. 0. 1. 1. 1. 0. 1. 1. 0. 0. 0. 1. 1. 0. 0. 0. 1. 0. 0. 1. 0. 1. 1. 0.\n",
      " 1. 1. 0. 1. 0. 0. 1. 1. 1. 0. 1. 0. 1. 0. 0. 0. 0. 0. 0. 1. 0. 1. 0. 1.\n",
      " 1. 1. 0. 0. 1. 0. 1. 0. 0. 0. 0. 1. 1. 1. 0. 1. 1. 1. 1. 1. 0. 1. 0. 1.\n",
      " 0. 0. 1. 0. 0. 0. 1. 1. 1. 0. 0. 0. 1. 0. 1. 1. 0. 0. 1. 1. 1. 0. 0. 1.\n",
      " 0. 0. 1. 1. 1. 0. 1. 0. 1. 1. 1. 0. 0. 1. 1. 0. 1. 0. 0. 1. 0. 1. 1. 1.\n",
      " 0. 1. 1. 0. 1. 1. 1. 1. 1. 1. 0. 1. 1. 1. 0. 0. 1. 0. 0. 1. 0. 1. 0. 0.\n",
      " 1. 0. 0. 1. 1. 1. 0. 0. 1. 1. 1. 0. 1. 1. 0. 1. 0. 0. 1. 0. 0. 0. 0. 1.\n",
      " 0. 0. 0. 1. 0. 1. 1. 0. 0. 0. 0. 0. 1. 0. 0. 1. 0. 0. 0. 0. 1. 1. 0. 0.\n",
      " 0. 0. 1. 0. 1. 0. 1. 1. 0. 1. 0. 0. 1. 0. 1. 1. 0. 1. 0. 1. 0. 1. 0. 1.\n",
      " 0. 1. 1. 1. 1. 1. 0. 1. 0. 0. 0. 0. 1. 0. 1. 0. 1. 0. 0. 0. 1. 1. 0. 0.\n",
      " 1. 0. 0. 0. 1. 1. 0. 0. 1. 0. 0. 1. 1. 1. 0. 0. 0. 0. 1. 0. 0. 1. 1. 1.\n",
      " 1. 1. 0. 0. 1. 1. 0. 1. 0. 1. 1. 0. 1. 1. 0. 0. 1. 0. 0. 1. 0. 1. 1. 1.\n",
      " 1. 1. 0. 0. 1. 0. 1. 0. 1. 1. 1. 0. 0. 0. 0. 0. 0. 0. 0. 0. 0. 1. 0. 0.\n",
      " 0. 0. 1. 0. 1. 0. 0. 0. 0. 0. 1. 0. 1. 0. 1. 1. 0. 1. 0. 1. 1. 1. 1. 1.\n",
      " 1. 0. 0. 0. 0. 1. 0. 1. 1. 0. 1. 1. 1. 0. 1. 0. 1. 1. 0. 1. 1. 0. 0. 0.\n",
      " 1. 0. 1. 0. 1. 1. 1. 0. 1. 0. 1. 1. 0. 0. 0. 1. 0. 0. 1. 0. 1. 0. 1. 0.\n",
      " 0. 1. 1. 0. 1. 1. 0. 1. 0. 1. 0. 0. 0. 1. 1. 0. 0. 0. 0. 1. 1. 0. 0. 0.\n",
      " 0. 1. 1. 0. 1. 1. 1. 0. 0. 0. 0. 0. 1. 0. 0. 1. 1. 0. 0. 1. 1. 1. 0. 0.\n",
      " 0. 1. 1. 1. 1. 1. 1. 0. 0. 0. 0. 0. 1. 0. 1. 0. 0. 0. 1. 1. 1. 1. 0. 1.\n",
      " 0. 1. 0. 1. 0. 0. 0. 1. 0. 0. 0. 0. 0. 1. 1. 1. 0. 0. 0. 1. 1. 1. 1. 0.\n",
      " 0. 1. 0. 0. 0. 0. 0. 1. 0. 0. 0. 0. 1. 1. 0. 0. 1. 1. 0. 0. 1. 0. 1. 0.\n",
      " 0. 1. 0. 0. 1. 0. 0. 1. 1. 1. 1. 0. 0. 1. 0. 0. 1. 1. 0. 0. 0. 1. 0. 0.\n",
      " 0. 0. 1. 0. 0. 0. 1. 1. 1. 0. 1. 1. 0. 0. 1. 0. 1. 1. 1. 0. 1. 1. 0. 1.\n",
      " 1. 0. 0. 0. 1. 1. 1. 0. 1. 1. 1. 0. 1. 0. 0. 0. 0. 1. 0. 1. 1. 1. 1. 1.\n",
      " 1. 0. 1. 1. 1. 0. 1. 0. 1. 0. 0. 0. 1. 0. 0. 0. 1. 0. 1. 0. 0. 1. 0. 1.\n",
      " 1. 0. 0. 1. 1. 0. 0. 1. 0. 0. 1. 1. 1. 1. 1. 1. 0. 1. 0. 0. 1. 0. 1. 1.\n",
      " 0. 1. 1. 0. 1. 1. 0. 1. 1. 1. 1. 1. 1. 0. 0. 0. 1. 0. 0. 1. 0. 0. 0. 0.\n",
      " 1. 0. 1. 1. 1. 1. 0. 1. 1. 1. 1. 0. 0. 0. 1. 1. 0. 1. 1. 0. 0. 0. 0. 0.\n",
      " 1. 1. 1. 1. 0. 0. 1. 0. 0. 1. 0. 1. 1. 0. 0. 0. 0. 0. 0. 0. 0. 1. 1. 0.\n",
      " 1. 1. 1. 0. 0. 0. 1. 0. 0. 0. 1. 1. 1. 0. 0. 1. 1. 0. 0. 0. 1. 0. 0. 1.\n",
      " 0. 0. 0. 1. 0. 0. 1. 0. 1. 1. 1. 0. 1. 0. 0. 0. 0. 1. 1. 1. 1. 0. 1. 1.\n",
      " 1. 0. 0. 0. 1. 1. 0. 1. 1. 0. 0. 1. 1. 0. 0. 0. 0. 1. 0. 0. 1. 0. 1. 1.\n",
      " 1. 0. 0. 0. 0. 1. 1. 0. 1. 1. 0. 0. 0. 0. 0. 1. 0. 0. 0. 0. 1. 0. 1. 0.\n",
      " 1. 1. 0. 1. 0. 1. 1. 0. 1. 0. 0. 1. 0. 0. 0. 1. 1. 1. 1. 0. 0. 0. 1. 1.\n",
      " 0. 1. 0. 1. 0. 1. 1. 1. 1. 1. 1. 0. 1. 0. 0. 1. 0. 1. 0. 1. 0. 1. 1. 0.\n",
      " 0. 0. 1. 1. 1. 1. 1. 0. 1. 1. 0. 0. 1. 1. 1. 1. 1. 1. 0. 1. 0. 1. 0. 1.\n",
      " 0. 1. 1. 0. 0. 1. 1. 1. 0. 1. 1. 1. 1. 0. 0. 0. 0. 1. 0. 1. 0. 0. 0. 1.\n",
      " 1. 0. 0. 1. 1. 0. 0. 1. 1. 1. 1. 1. 0. 1. 0. 0. 0. 1. 0. 1. 0. 1. 0. 1.\n",
      " 1. 0. 0. 1. 0. 0. 0. 0. 0. 0. 0. 0. 1. 1. 0. 1. 0. 1. 1. 0. 0. 0. 1. 1.\n",
      " 1. 1. 0. 0. 0. 1. 0. 1. 1. 0. 0. 0. 0. 1. 1. 0.]\n",
      "Y_test [[0. 1.]\n",
      " [1. 0.]\n",
      " [0. 1.]\n",
      " ...\n",
      " [0. 1.]\n",
      " [0. 1.]\n",
      " [1. 0.]]\n",
      "1000/1000 [==============================] - 0s 66us/step\n",
      "BER 0.0\n",
      "1000/1000 [==============================] - 0s 70us/step\n",
      "BER 0.0\n",
      "1000/1000 [==============================] - 0s 68us/step\n",
      "BER 0.0\n",
      "1000/1000 [==============================] - 0s 72us/step\n",
      "BER 0.0\n",
      "1000/1000 [==============================] - 0s 77us/step\n",
      "BER 0.0\n",
      "1000/1000 [==============================] - 0s 81us/step\n",
      "BER 0.0\n",
      "1000/1000 [==============================] - 0s 80us/step\n",
      "BER 0.0\n",
      "1000/1000 [==============================] - 0s 80us/step\n",
      "BER 0.0\n",
      "1000/1000 [==============================] - 0s 76us/step\n",
      "BER 0.0\n"
     ]
    },
    {
     "name": "stderr",
     "output_type": "stream",
     "text": [
      "E:\\Anaconda3\\lib\\site-packages\\matplotlib\\ticker.py:2210: UserWarning: Data has no positive values, and therefore cannot be log-scaled.\n",
      "  \"Data has no positive values, and therefore cannot be \"\n"
     ]
    },
    {
     "data": {
      "image/png": "[encoded data removed]",
      "text/plain": [
       "<matplotlib.figure.Figure at 0x24e01e03ef0>"
      ]
     },
     "metadata": {},
     "output_type": "display_data"
    },
    {
     "name": "stdout",
     "output_type": "stream",
     "text": [
      "save txt have done\n"
     ]
    }
   ],
   "source": [
    "#-------------load the model-------------\n",
    "from keras.models import load_model \n",
    "\n",
    "#------test data generating---------------\n",
    "data,data_p=symbol_out(data_len)\n",
    "I_out,Q_out=IQ_msk(data,data_len,sample_num,Rb)\n",
    "signal_mod=carriermod(fc,Rb,I_out,Q_out)\n",
    "#--generate noise--------------\n",
    "\n",
    "\n",
    "#X_train = signal_mod0.reshape(data_len,sample_num,200)\n",
    "\n",
    "#signal_mod0 = signal_mod + im_noise\n",
    "\n",
    "data_0=(data+1)/2\n",
    "print('data_0',data_0)\n",
    "Y_test = np_utils.to_categorical(data_0, num_classes=2)\n",
    "print('Y_test',Y_test)\n",
    "\n",
    "\n",
    "#*************alpha=1.5*******************************************\n",
    "model2 = model_m\n",
    "#-----test and plot----------\n",
    "#---plot ber curve-------------\n",
    "yita = 0\n",
    "EbN0 = [-12,-11,-10,-9,-8,-7,-6,-5,-4] #[-5,-4,-3,-2,-1,0,1,2,3] #[-8,-7,-6,-5,-4,-3,-2,-1,0]  #[1,2,3,4,5] # \n",
    "BER = [0]*len(EbN0)\n",
    "loop_num = [1]*len(EbN0)    #[1,1,10,10,10,10,100,100,1000]\n",
    "for i in range(len(EbN0)):\n",
    "  #EbN0[i] = GSNR[i]/2\n",
    "  cmb_noise = cmbn.combnoise(EbN0[i],yita,len(signal_mod),fc,fs)\n",
    "  im_noise=cmbn.imnoise(EbN0[i],yita,signal_mod.shape,alpha=1.2)\n",
    "  signal_mod0 = signal_mod+cmb_noise+im_noise\n",
    "  X_test = signal_mod0.reshape(data_len,1600) \n",
    "  BER_loop = [0]*loop_num[i]\n",
    "  wrong = [0]*loop_num[i]\n",
    "  wrong_sum = 0\n",
    "  for loop in range(loop_num[i]):\n",
    "    \n",
    "    loss,accuracy = model2.evaluate(X_test, Y_test)\n",
    "    BER_loop[loop] = 1- accuracy\n",
    "    wrong[loop] = BER_loop[loop]*data_len\n",
    "  wrong_sum = sum(wrong)\n",
    "  BER[i] = wrong_sum/(data_len*loop_num[i])\n",
    "  print('BER',BER[i])\n",
    "plt.semilogy(EbN0,BER,'b*-')\n",
    "plt.savefig('BER_MSK_GCNN_tr2dBv8_te_5_2dB_alpha12.jpg')\n",
    "plt.show()\n",
    "np.savetxt('BER_MSK_GCNN_tr-6dBv8_te_12_4_comb.txt',BER,fmt='%0.8f')\n",
    "print('save txt have done')"
   ]
  },
  {
   "cell_type": "code",
   "execution_count": 13,
   "metadata": {},
   "outputs": [
    {
     "name": "stdout",
     "output_type": "stream",
     "text": [
      "[[0. 1.]\n",
      " [1. 0.]\n",
      " [0. 1.]\n",
      " ...\n",
      " [1. 0.]\n",
      " [0. 1.]\n",
      " [1. 0.]]\n"
     ]
    }
   ],
   "source": [
    "print (y_train)"
   ]
  },
  {
   "cell_type": "code",
   "execution_count": null,
   "metadata": {
    "collapsed": true
   },
   "outputs": [],
   "source": []
  }
 ],
 "metadata": {
  "kernelspec": {
   "display_name": "Python 3",
   "language": "python",
   "name": "python3"
  },
  "language_info": {
   "codemirror_mode": {
    "name": "ipython",
    "version": 3
   },
   "file_extension": ".py",
   "mimetype": "text/x-python",
   "name": "python",
   "nbconvert_exporter": "python",
   "pygments_lexer": "ipython3",
   "version": "3.6.3"
  }
 },
 "nbformat": 4,
 "nbformat_minor": 2
}
